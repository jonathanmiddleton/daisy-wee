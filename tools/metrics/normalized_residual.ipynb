{
 "cells": [
  {
   "cell_type": "code",
   "id": "initial_id",
   "metadata": {
    "collapsed": true,
    "ExecuteTime": {
     "end_time": "2025-10-08T17:08:34.305874Z",
     "start_time": "2025-10-08T17:08:34.292254Z"
    }
   },
   "source": [
    "import pandas as pd, numpy as np\n",
    "\n",
    "# CSV: ema half-life = 50 steps\n",
    "df = pd.read_csv(\"450m-8xg34b-val2.86.csv\",  engine=\"python\")  # columns: tokens step loss ema\n",
    "res = df[\"loss\"] - df[\"ema\"]\n",
    "ema_hl = 50\n",
    "res_var = res.pow(2).ewm(halflife=ema_hl, adjust=False).mean()\n",
    "z = res / np.sqrt(res_var + 1e-12)\n",
    "p3 = (z.abs() > 3).mean()\n",
    "r1 = np.corrcoef(res[1:], res[:-1])[0,1]\n",
    "dnr = res.pow(2).mean()**0.5 / df[\"ema\"].diff().abs().replace(0,np.nan).ewm(halflife=ema_hl, adjust=False).mean().mean()\n",
    "print({\"p_abs_z_gt_3\": float(p3), \"rho_lag1\": float(r1), \"DNR\": float(dnr)})\n"
   ],
   "outputs": [
    {
     "name": "stdout",
     "output_type": "stream",
     "text": [
      "{'p_abs_z_gt_3': 0.00550314465408805, 'rho_lag1': -0.25351749354912473, 'DNR': 1.4357276529788743}\n"
     ]
    }
   ],
   "execution_count": 4
  },
  {
   "metadata": {},
   "cell_type": "markdown",
   "source": [
    "- p(|z|>3) = 0.0055 (0.55%): low tail rate → volatility is well-behaved\n",
    "- ρ₁ = −0.254: mild negative autocorrelation → slight overshoot/undershoot around the EMA\n",
    "- DNR = 1.44: drift and noise are comparable; typical for a stable regime"
   ],
   "id": "91e5d59262f786a9"
  },
  {
   "metadata": {},
   "cell_type": "code",
   "outputs": [],
   "execution_count": null,
   "source": "",
   "id": "f76cacac00da970b"
  }
 ],
 "metadata": {
  "kernelspec": {
   "display_name": "Python 3",
   "language": "python",
   "name": "python3"
  },
  "language_info": {
   "codemirror_mode": {
    "name": "ipython",
    "version": 2
   },
   "file_extension": ".py",
   "mimetype": "text/x-python",
   "name": "python",
   "nbconvert_exporter": "python",
   "pygments_lexer": "ipython2",
   "version": "2.7.6"
  }
 },
 "nbformat": 4,
 "nbformat_minor": 5
}
