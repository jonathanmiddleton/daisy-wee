{
 "cells": [
  {
   "metadata": {},
   "cell_type": "markdown",
   "source": "### Clear Vars",
   "id": "1a1ed627a0d69b55"
  },
  {
   "metadata": {
    "ExecuteTime": {
     "end_time": "2025-10-23T17:34:01.385840Z",
     "start_time": "2025-10-23T17:34:01.383699Z"
    }
   },
   "cell_type": "code",
   "source": [
    "def clear_vars():\n",
    "    for _n in list(globals()):\n",
    "        if not _n.startswith(\"_\") and _n not in (\"In\",\"Out\",\"get_ipython\",\"exit\",\"quit\"):\n",
    "            del globals()[_n]"
   ],
   "id": "de0d4335326716d2",
   "outputs": [],
   "execution_count": 8
  },
  {
   "metadata": {},
   "cell_type": "markdown",
   "source": "### Device Copy Overhead",
   "id": "6fad247121126c7"
  },
  {
   "metadata": {},
   "cell_type": "code",
   "outputs": [],
   "execution_count": null,
   "source": "clear_vars()",
   "id": "93f3ca7b0a98e429"
  },
  {
   "cell_type": "code",
   "id": "initial_id",
   "metadata": {
    "collapsed": true,
    "ExecuteTime": {
     "end_time": "2025-10-23T17:33:21.910266Z",
     "start_time": "2025-10-23T17:33:16.898620Z"
    }
   },
   "source": [
    "import time, torch, torch.nn.functional as F\n",
    "V=50000\n",
    "dtype=torch.bfloat16\n",
    "iters = 2048\n",
    "x=torch.randn(V, device=\"mps\", dtype=dtype)\n",
    "s=time.perf_counter()\n",
    "for _ in range(iters): _ = int(torch.argmax(x).item())\n",
    "torch.mps.synchronize(); print(\"1-scalar copy:\", time.perf_counter()-s)\n",
    "\n",
    "p=F.softmax(x, -1).to(\"cpu\"); s=time.perf_counter()\n",
    "for _ in range(iters): _ = int(torch.multinomial(p,1))  # simulating CPU sampler\n",
    "print(\"CPU multinomial -> CPU scalar:\", time.perf_counter()-s)\n",
    "\n",
    "\n",
    "p=F.softmax(x, -1).to(\"mps\"); s=time.perf_counter()\n",
    "for _ in range(iters): _ = int(torch.multinomial(p,1))\n",
    "print(\"MPS multinomial -> CPU scalar:\", time.perf_counter()-s)\n"
   ],
   "outputs": [
    {
     "name": "stdout",
     "output_type": "stream",
     "text": [
      "1-scalar copy: 0.6497018329973798\n",
      "CPU multinomial -> CPU scalar: 1.870685500005493\n",
      "MPS multinomial -> CPU scalar: 2.4869550000003073\n"
     ]
    }
   ],
   "execution_count": 3
  },
  {
   "metadata": {},
   "cell_type": "markdown",
   "source": "### Rotary DTypes",
   "id": "8b0502573dc9188b"
  },
  {
   "metadata": {},
   "cell_type": "code",
   "outputs": [],
   "execution_count": null,
   "source": "clear_vars()",
   "id": "e3e932d3e6f2686"
  },
  {
   "metadata": {
    "ExecuteTime": {
     "end_time": "2025-10-23T17:33:26.499620Z",
     "start_time": "2025-10-23T17:33:26.495477Z"
    }
   },
   "cell_type": "code",
   "source": [
    "import torch, torch.nn as nn\n",
    "\n",
    "def _apply_rope(x, cos, sin):\n",
    "    x1, x2 = x.chunk(2, dim=-1)\n",
    "    y1 = x1 * cos + x2 * sin\n",
    "    y2 = x1 * (-sin) + x2 * cos\n",
    "    return torch.cat((y1, y2), dim=-1)\n",
    "\n",
    "class RotaryPositionEncoding(nn.Module):\n",
    "    def __init__(self, dim, max_seq_len, dtype):\n",
    "        super().__init__()\n",
    "        half = dim // 2\n",
    "        keep = dim // 4\n",
    "        base = 1024\n",
    "        if keep == 0:\n",
    "            angular = (1 / base) ** torch.linspace(0, 1, steps=half, dtype=dtype)\n",
    "        else:\n",
    "            active = (1 / base) ** torch.linspace(0, 1, steps=keep, dtype=dtype)\n",
    "            angular = torch.cat([active, active.new_zeros(half - keep)])\n",
    "        self.inv_freq = nn.Buffer(angular, persistent=False)\n",
    "        t = torch.arange(max_seq_len, dtype=dtype)\n",
    "        theta = torch.einsum(\"i,j->ij\", t, self.inv_freq)\n",
    "        self.cos = nn.Buffer(theta.cos().to(dtype), persistent=False)\n",
    "        self.sin = nn.Buffer(theta.sin().to(dtype), persistent=False)\n",
    "        self._max_seq_len = int(max_seq_len)\n",
    "\n",
    "    def apply(self, x_BTHD, L):\n",
    "        cos = self.cos[:L][None, :L, None, :]\n",
    "        sin = self.sin[:L][None, :L, None, :]\n",
    "        return _apply_rope(x_BTHD, cos, sin)\n",
    "\n"
   ],
   "id": "b27ca30b5492578",
   "outputs": [],
   "execution_count": 4
  },
  {
   "metadata": {},
   "cell_type": "code",
   "outputs": [],
   "execution_count": null,
   "source": [
    "rotary_dtypes = [torch.float16, torch.bfloat16]\n",
    "B = 1; T = 1024; H = 8; D = 128; iters = 2048\n",
    "\n",
    "for dtype in rotary_dtypes:\n",
    "    rope_ref = RotaryPositionEncoding(H*D, T, dtype=torch.float32)\n",
    "    rope = RotaryPositionEncoding(H*D, T, dtype=dtype)\n",
    "    x = torch.randn(B, T, H, D, dtype=dtype)\n",
    "    for i in range(iters):\n",
    "        rope.apply(x, 1024)"
   ],
   "id": "5549b74b14801255"
  }
 ],
 "metadata": {
  "kernelspec": {
   "display_name": "Python 3",
   "language": "python",
   "name": "python3"
  },
  "language_info": {
   "codemirror_mode": {
    "name": "ipython",
    "version": 2
   },
   "file_extension": ".py",
   "mimetype": "text/x-python",
   "name": "python",
   "nbconvert_exporter": "python",
   "pygments_lexer": "ipython2",
   "version": "2.7.6"
  }
 },
 "nbformat": 4,
 "nbformat_minor": 5
}
